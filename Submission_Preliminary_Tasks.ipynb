{
 "cells": [
  {
   "cell_type": "markdown",
   "id": "66de12f3-295c-4e54-91bf-35ab27728100",
   "metadata": {},
   "source": [
    "Author - Meghana Bhat, meghanab@umich.edu\n",
    "Applicant to Data Science Intern at Trimble"
   ]
  },
  {
   "cell_type": "markdown",
   "id": "c878e345-3f39-41f8-b073-e0887f88da17",
   "metadata": {},
   "source": [
    "1. a)\n",
    "\n",
    "SELECT name.Student_ID, name.Name \n",
    "\n",
    "FROM name_table as name \n",
    "\n",
    "LEFT JOIN mark_table as mark on name.Student_ID = mark.Student_ID \n",
    "\n",
    "WHERE mark.Total_marks > 80"
   ]
  },
  {
   "cell_type": "code",
   "execution_count": 188,
   "id": "4d611c29-f1b8-47f6-a78a-5bcc30630c89",
   "metadata": {},
   "outputs": [],
   "source": [
    "import pandas as pd\n",
    "import re\n",
    "import matplotlib.pyplot as plt\n",
    "import seaborn as sns\n",
    "import numpy as np"
   ]
  },
  {
   "cell_type": "code",
   "execution_count": 197,
   "id": "41c49b21-483c-4cd8-ada5-a08b438c6b0e",
   "metadata": {},
   "outputs": [],
   "source": [
    "import statsmodels\n",
    "import statsmodels.api as sm\n",
    "from statsmodels.formula.api import ols\n",
    "import statsmodels.api as sm\n",
    "import statsmodels.formula.api as smf"
   ]
  },
  {
   "cell_type": "code",
   "execution_count": 59,
   "id": "ed3d1a92-b913-4437-8180-b4177e248d0c",
   "metadata": {},
   "outputs": [],
   "source": [
    "# 1. b)\n",
    "name_table = pd.DataFrame()\n",
    "name_table[\"StudentID\"] = ['V001', 'V002', 'V003', 'V004']\n",
    "name_table[\"Name\"] = ['Abe', 'Abhay', 'Acelin', 'Adelphos']\n",
    "name_table = name_table.set_index(\"StudentID\")\n",
    "\n",
    "mark_table = pd.DataFrame()\n",
    "mark_table[\"StudentID\"] = ['V001', 'V002', 'V003', 'V004']\n",
    "mark_table[\"Total_marks\"] = [95, 80, 74, 81]\n",
    "mark_table = mark_table.set_index(\"StudentID\")"
   ]
  },
  {
   "cell_type": "code",
   "execution_count": 60,
   "id": "2c8e17ae-4a8e-4e8c-92de-f7b47c705a86",
   "metadata": {},
   "outputs": [
    {
     "data": {
      "text/html": [
       "<div>\n",
       "<style scoped>\n",
       "    .dataframe tbody tr th:only-of-type {\n",
       "        vertical-align: middle;\n",
       "    }\n",
       "\n",
       "    .dataframe tbody tr th {\n",
       "        vertical-align: top;\n",
       "    }\n",
       "\n",
       "    .dataframe thead th {\n",
       "        text-align: right;\n",
       "    }\n",
       "</style>\n",
       "<table border=\"1\" class=\"dataframe\">\n",
       "  <thead>\n",
       "    <tr style=\"text-align: right;\">\n",
       "      <th></th>\n",
       "      <th>Name</th>\n",
       "    </tr>\n",
       "    <tr>\n",
       "      <th>StudentID</th>\n",
       "      <th></th>\n",
       "    </tr>\n",
       "  </thead>\n",
       "  <tbody>\n",
       "    <tr>\n",
       "      <th>V001</th>\n",
       "      <td>ABE</td>\n",
       "    </tr>\n",
       "    <tr>\n",
       "      <th>V002</th>\n",
       "      <td>abhay</td>\n",
       "    </tr>\n",
       "    <tr>\n",
       "      <th>V003</th>\n",
       "      <td>ACELIN</td>\n",
       "    </tr>\n",
       "    <tr>\n",
       "      <th>V004</th>\n",
       "      <td>ADELPHOS</td>\n",
       "    </tr>\n",
       "  </tbody>\n",
       "</table>\n",
       "</div>"
      ],
      "text/plain": [
       "               Name\n",
       "StudentID          \n",
       "V001            ABE\n",
       "V002          abhay\n",
       "V003         ACELIN\n",
       "V004       ADELPHOS"
      ]
     },
     "execution_count": 60,
     "metadata": {},
     "output_type": "execute_result"
    }
   ],
   "source": [
    "def change_case(name):\n",
    "    if 'e' in name:\n",
    "        return name.upper()\n",
    "    return name.lower()\n",
    "\n",
    "name_table[\"Name\"] = name_table[\"Name\"].apply(change_case)\n",
    "name_table"
   ]
  },
  {
   "cell_type": "code",
   "execution_count": 76,
   "id": "64030cbd-1ee7-4fc0-bb90-447974cf351f",
   "metadata": {},
   "outputs": [],
   "source": [
    "# 1.c) performing an inner join to retain only those IDs with both Names and Marks values\n",
    "def summarize(names, marks):\n",
    "    summary_table = pd.DataFrame()\n",
    "    names_and_marks = names.join(marks, on=\"StudentID\")\n",
    "    summary = names_and_marks[\"Total_marks\"].groupby(\n",
    "    names_and_marks.Name.str.isupper()).mean()\n",
    "    summary_table[\"Lower Case Average\"] = [summary.get(False, '0')]\n",
    "    summary_table[\"Upper Case Average\"] = [summary.get(True, '0')]\n",
    "    return summary_table"
   ]
  },
  {
   "cell_type": "code",
   "execution_count": 75,
   "id": "67d044ca-8e1b-4f13-8a44-06ce38d2f525",
   "metadata": {},
   "outputs": [
    {
     "data": {
      "text/html": [
       "<div>\n",
       "<style scoped>\n",
       "    .dataframe tbody tr th:only-of-type {\n",
       "        vertical-align: middle;\n",
       "    }\n",
       "\n",
       "    .dataframe tbody tr th {\n",
       "        vertical-align: top;\n",
       "    }\n",
       "\n",
       "    .dataframe thead th {\n",
       "        text-align: right;\n",
       "    }\n",
       "</style>\n",
       "<table border=\"1\" class=\"dataframe\">\n",
       "  <thead>\n",
       "    <tr style=\"text-align: right;\">\n",
       "      <th></th>\n",
       "      <th>Lower Case Average</th>\n",
       "      <th>Upper Case Average</th>\n",
       "    </tr>\n",
       "  </thead>\n",
       "  <tbody>\n",
       "    <tr>\n",
       "      <th>0</th>\n",
       "      <td>80.0</td>\n",
       "      <td>83.333333</td>\n",
       "    </tr>\n",
       "  </tbody>\n",
       "</table>\n",
       "</div>"
      ],
      "text/plain": [
       "   Lower Case Average  Upper Case Average\n",
       "0                80.0           83.333333"
      ]
     },
     "execution_count": 75,
     "metadata": {},
     "output_type": "execute_result"
    }
   ],
   "source": [
    "summarize(name_table, mark_table)"
   ]
  },
  {
   "cell_type": "code",
   "execution_count": 144,
   "id": "9cf78436-f2d6-477e-8a53-72bfa09de72c",
   "metadata": {},
   "outputs": [
    {
     "data": {
      "text/html": [
       "<div>\n",
       "<style scoped>\n",
       "    .dataframe tbody tr th:only-of-type {\n",
       "        vertical-align: middle;\n",
       "    }\n",
       "\n",
       "    .dataframe tbody tr th {\n",
       "        vertical-align: top;\n",
       "    }\n",
       "\n",
       "    .dataframe thead th {\n",
       "        text-align: right;\n",
       "    }\n",
       "</style>\n",
       "<table border=\"1\" class=\"dataframe\">\n",
       "  <thead>\n",
       "    <tr style=\"text-align: right;\">\n",
       "      <th></th>\n",
       "      <th>NAME</th>\n",
       "      <th>STATUS</th>\n",
       "      <th>SALARY</th>\n",
       "      <th>PAY BASIS</th>\n",
       "      <th>POSITION TITLE</th>\n",
       "    </tr>\n",
       "  </thead>\n",
       "  <tbody>\n",
       "    <tr>\n",
       "      <th>0</th>\n",
       "      <td>Alexander, Monica K.</td>\n",
       "      <td>Employee</td>\n",
       "      <td>$56,000.00</td>\n",
       "      <td>Per Annum</td>\n",
       "      <td>EXECUTIVE ASSISTANT</td>\n",
       "    </tr>\n",
       "    <tr>\n",
       "      <th>1</th>\n",
       "      <td>Ambrosini, Michael J.</td>\n",
       "      <td>Employee</td>\n",
       "      <td>$95,000.00</td>\n",
       "      <td>Per Annum</td>\n",
       "      <td>SPECIAL ASSISTANT TO THE PRESIDENT AND DIRECTO...</td>\n",
       "    </tr>\n",
       "    <tr>\n",
       "      <th>2</th>\n",
       "      <td>Amin, Stacy C.</td>\n",
       "      <td>Employee</td>\n",
       "      <td>$140,000.00</td>\n",
       "      <td>Per Annum</td>\n",
       "      <td>SPECIAL ASSISTANT TO THE PRESIDENT AND ASSOCIA...</td>\n",
       "    </tr>\n",
       "    <tr>\n",
       "      <th>3</th>\n",
       "      <td>Andersen, Whitney N.</td>\n",
       "      <td>Employee</td>\n",
       "      <td>$94,000.00</td>\n",
       "      <td>Per Annum</td>\n",
       "      <td>DEPUTY DIRECTOR OF OPERATIONS FOR THE WHITE HO...</td>\n",
       "    </tr>\n",
       "    <tr>\n",
       "      <th>4</th>\n",
       "      <td>Anderson, Alexander J.</td>\n",
       "      <td>Employee</td>\n",
       "      <td>$77,000.00</td>\n",
       "      <td>Per Annum</td>\n",
       "      <td>DIRECTOR OF DIGITAL ENGAGEMENT</td>\n",
       "    </tr>\n",
       "  </tbody>\n",
       "</table>\n",
       "</div>"
      ],
      "text/plain": [
       "                     NAME    STATUS       SALARY  PAY BASIS  \\\n",
       "0    Alexander, Monica K.  Employee   $56,000.00  Per Annum   \n",
       "1   Ambrosini, Michael J.  Employee   $95,000.00  Per Annum   \n",
       "2          Amin, Stacy C.  Employee  $140,000.00  Per Annum   \n",
       "3    Andersen, Whitney N.  Employee   $94,000.00  Per Annum   \n",
       "4  Anderson, Alexander J.  Employee   $77,000.00  Per Annum   \n",
       "\n",
       "                                      POSITION TITLE  \n",
       "0                                EXECUTIVE ASSISTANT  \n",
       "1  SPECIAL ASSISTANT TO THE PRESIDENT AND DIRECTO...  \n",
       "2  SPECIAL ASSISTANT TO THE PRESIDENT AND ASSOCIA...  \n",
       "3  DEPUTY DIRECTOR OF OPERATIONS FOR THE WHITE HO...  \n",
       "4                     DIRECTOR OF DIGITAL ENGAGEMENT  "
      ]
     },
     "execution_count": 144,
     "metadata": {},
     "output_type": "execute_result"
    }
   ],
   "source": [
    "# 2. a)\n",
    "#url = \"https://github.com/helloworlddata/white-house-salaries/blob/73f4084846537bb817871d18fa38ddff9f92d83c/data/converted/2017.csv\"\n",
    "white_house_salaries = pd.read_csv(\"https://raw.githubusercontent.com/helloworlddata/white-house-salaries/master/data/converted/2017.csv\", delimiter=',', decimal=',')\n",
    "white_house_salaries.head(5)"
   ]
  },
  {
   "cell_type": "code",
   "execution_count": 145,
   "id": "72c12709-2c04-4027-8c92-9f7fba88a239",
   "metadata": {},
   "outputs": [
    {
     "data": {
      "text/plain": [
       "Index(['NAME', 'STATUS', 'SALARY', 'PAY BASIS', 'POSITION TITLE'], dtype='object')"
      ]
     },
     "execution_count": 145,
     "metadata": {},
     "output_type": "execute_result"
    }
   ],
   "source": [
    "white_house_salaries.columns"
   ]
  },
  {
   "cell_type": "code",
   "execution_count": 146,
   "id": "9ba2e317-ea8b-4643-a4e3-f1ed0af469e1",
   "metadata": {},
   "outputs": [
    {
     "data": {
      "text/plain": [
       "Index(['POSITION TITLE'], dtype='object')"
      ]
     },
     "execution_count": 146,
     "metadata": {},
     "output_type": "execute_result"
    }
   ],
   "source": [
    "white_house_salaries.columns[white_house_salaries.isnull().any()]"
   ]
  },
  {
   "cell_type": "code",
   "execution_count": 147,
   "id": "813ecc2d-dae0-4f5a-98fd-48df23f10a1e",
   "metadata": {},
   "outputs": [
    {
     "data": {
      "text/plain": [
       "(377, 5)"
      ]
     },
     "execution_count": 147,
     "metadata": {},
     "output_type": "execute_result"
    }
   ],
   "source": [
    "white_house_salaries.shape"
   ]
  },
  {
   "cell_type": "code",
   "execution_count": 148,
   "id": "0a7d965b-3233-47d0-88bb-a927e0f13bfb",
   "metadata": {},
   "outputs": [
    {
     "data": {
      "text/html": [
       "<div>\n",
       "<style scoped>\n",
       "    .dataframe tbody tr th:only-of-type {\n",
       "        vertical-align: middle;\n",
       "    }\n",
       "\n",
       "    .dataframe tbody tr th {\n",
       "        vertical-align: top;\n",
       "    }\n",
       "\n",
       "    .dataframe thead th {\n",
       "        text-align: right;\n",
       "    }\n",
       "</style>\n",
       "<table border=\"1\" class=\"dataframe\">\n",
       "  <thead>\n",
       "    <tr style=\"text-align: right;\">\n",
       "      <th></th>\n",
       "      <th>NAME</th>\n",
       "      <th>STATUS</th>\n",
       "      <th>SALARY</th>\n",
       "      <th>PAY BASIS</th>\n",
       "      <th>POSITION TITLE</th>\n",
       "    </tr>\n",
       "  </thead>\n",
       "  <tbody>\n",
       "    <tr>\n",
       "      <th>count</th>\n",
       "      <td>377</td>\n",
       "      <td>377</td>\n",
       "      <td>377</td>\n",
       "      <td>377</td>\n",
       "      <td>375</td>\n",
       "    </tr>\n",
       "    <tr>\n",
       "      <th>unique</th>\n",
       "      <td>377</td>\n",
       "      <td>2</td>\n",
       "      <td>74</td>\n",
       "      <td>3</td>\n",
       "      <td>214</td>\n",
       "    </tr>\n",
       "    <tr>\n",
       "      <th>top</th>\n",
       "      <td>Alexander, Monica K.</td>\n",
       "      <td>Employee</td>\n",
       "      <td>$115,000.00</td>\n",
       "      <td>Per Annum</td>\n",
       "      <td>EXECUTIVE ASSISTANT</td>\n",
       "    </tr>\n",
       "    <tr>\n",
       "      <th>freq</th>\n",
       "      <td>1</td>\n",
       "      <td>359</td>\n",
       "      <td>46</td>\n",
       "      <td>375</td>\n",
       "      <td>20</td>\n",
       "    </tr>\n",
       "  </tbody>\n",
       "</table>\n",
       "</div>"
      ],
      "text/plain": [
       "                        NAME    STATUS       SALARY  PAY BASIS  \\\n",
       "count                    377       377          377        377   \n",
       "unique                   377         2           74          3   \n",
       "top     Alexander, Monica K.  Employee  $115,000.00  Per Annum   \n",
       "freq                       1       359           46        375   \n",
       "\n",
       "             POSITION TITLE  \n",
       "count                   375  \n",
       "unique                  214  \n",
       "top     EXECUTIVE ASSISTANT  \n",
       "freq                     20  "
      ]
     },
     "execution_count": 148,
     "metadata": {},
     "output_type": "execute_result"
    }
   ],
   "source": [
    "white_house_salaries.describe()"
   ]
  },
  {
   "cell_type": "code",
   "execution_count": 151,
   "id": "3bbac41e-958f-4a2a-b458-7d39c36d063e",
   "metadata": {},
   "outputs": [
    {
     "data": {
      "text/plain": [
       "count            377\n",
       "unique            74\n",
       "top       $115000.00\n",
       "freq              46\n",
       "Name: SALARY, dtype: object"
      ]
     },
     "execution_count": 151,
     "metadata": {},
     "output_type": "execute_result"
    }
   ],
   "source": [
    "white_house_salaries.SALARY.describe()"
   ]
  },
  {
   "cell_type": "markdown",
   "id": "ead09da9-332f-4cd8-a8a7-57c1a4c61e72",
   "metadata": {},
   "source": [
    "Converting Salaries to Integer values to get summary statistics"
   ]
  },
  {
   "cell_type": "code",
   "execution_count": 157,
   "id": "d52dca93-0b7d-42ed-ac72-00b6c4415c39",
   "metadata": {},
   "outputs": [],
   "source": [
    "white_house_salaries['SALARY'] = white_house_salaries['SALARY'].apply(lambda x: re.sub(\"[$,]\", \"\", x))\n",
    "white_house_salaries['SALARY'] = white_house_salaries['SALARY'].astype(float)"
   ]
  },
  {
   "cell_type": "code",
   "execution_count": 158,
   "id": "c7ce89ad-65ff-4a70-b544-fd5280957f18",
   "metadata": {},
   "outputs": [
    {
     "data": {
      "text/plain": [
       "count       377.000000\n",
       "mean      94872.000000\n",
       "std       43112.357821\n",
       "min           0.000000\n",
       "25%       56000.000000\n",
       "50%       89000.000000\n",
       "75%      119000.000000\n",
       "max      187100.000000\n",
       "Name: SALARY, dtype: float64"
      ]
     },
     "execution_count": 158,
     "metadata": {},
     "output_type": "execute_result"
    }
   ],
   "source": [
    "white_house_salaries['SALARY'].describe()"
   ]
  },
  {
   "cell_type": "code",
   "execution_count": 177,
   "id": "315bdb0a-2c19-4787-b37c-181e495b6160",
   "metadata": {},
   "outputs": [
    {
     "data": {
      "image/png": "[encoded data removed]",
      "text/plain": [
       "<Figure size 432x288 with 1 Axes>"
      ]
     },
     "metadata": {
      "needs_background": "light"
     },
     "output_type": "display_data"
    }
   ],
   "source": [
    "n, bins, patches = plt.hist(white_house_salaries['SALARY'], 18, density=True, facecolor='g', alpha=0.75)\n",
    "\n",
    "plt.xlabel('Salaries')\n",
    "plt.ylabel('Frequency of Class')\n",
    "plt.title('Salary Distribution')\n",
    "plt.grid(True)\n",
    "plt.show()"
   ]
  },
  {
   "cell_type": "code",
   "execution_count": null,
   "id": "0b694c4b-3e7a-463a-b407-4b0e937b892c",
   "metadata": {},
   "outputs": [],
   "source": []
  },
  {
   "cell_type": "markdown",
   "id": "a70c35b3-ed87-4ff9-8811-317bbd0678e3",
   "metadata": {},
   "source": [
    "The distribution of is a Random, with no discernible pattern"
   ]
  },
  {
   "cell_type": "code",
   "execution_count": 205,
   "id": "883769db-47e4-4684-a08b-36dc5356d1d6",
   "metadata": {},
   "outputs": [
    {
     "data": {
      "text/plain": [
       "True"
      ]
     },
     "execution_count": 205,
     "metadata": {},
     "output_type": "execute_result"
    }
   ],
   "source": [
    "white_house_salaries[\"POSITION TITLE\"].isnull().values.any()"
   ]
  },
  {
   "cell_type": "code",
   "execution_count": 206,
   "id": "fee09f16-653a-4718-9756-245c0886b6e5",
   "metadata": {},
   "outputs": [],
   "source": [
    "modified_wh = white_house_salaries[white_house_salaries[\"POSITION TITLE\"].notna()]"
   ]
  },
  {
   "cell_type": "code",
   "execution_count": 207,
   "id": "778beb4e-dd61-4a17-ba1d-7b32bd629f48",
   "metadata": {},
   "outputs": [
    {
     "data": {
      "text/plain": [
       "EXECUTIVE ASSISTANT                                                             20\n",
       "STAFF ASSISTANT                                                                 18\n",
       "ASSOCIATE DIRECTOR                                                              17\n",
       "INFORMATION SERVICES OPERATOR                                                   12\n",
       "ASSOCIATE COUNSEL TO THE PRESIDENT                                              12\n",
       "                                                                                ..\n",
       "ASSISTANT TO THE PRESIDENT AND DIRECTOR OF STRATEGIC COMMUNICATIONS              1\n",
       "SPECIAL PROJECTS MANAGER                                                         1\n",
       "SENIOR POLICY ADVISOR                                                            1\n",
       "DEPUTY ASSISTANT TO THE PRESIDENT AND CHIEF OF STAFF TO THE SENIOR COUNSELOR     1\n",
       "SPECIAL ASSISTANT TO THE PRESIDENT FOR JUSTICE AND HOMELAND SECURITY POLICY      1\n",
       "Name: POSITION TITLE, Length: 214, dtype: int64"
      ]
     },
     "execution_count": 207,
     "metadata": {},
     "output_type": "execute_result"
    }
   ],
   "source": [
    "#comparing salaries by position title\n",
    "modified_wh[\"POSITION TITLE\"].value_counts()"
   ]
  },
  {
   "cell_type": "code",
   "execution_count": 208,
   "id": "2b4952f6-2035-4b33-8b58-70255a4661ad",
   "metadata": {},
   "outputs": [
    {
     "data": {
      "text/plain": [
       "POSITION TITLE\n",
       "SENIOR POLICY ADVISOR                                                                                      187100.0\n",
       "ASSISTANT TO THE PRESIDENT AND DIRECTOR OF THE OFFICE OF PUBLIC LIAISON                                    179700.0\n",
       "ASSISTANT TO THE PRESIDENT AND DEPUTY NATIONAL SECURITY ADVISOR FOR STRATEGY                               179700.0\n",
       "ASSISTANT TO THE PRESIDENT AND DIRECTOR OF COMMUNICATIONS FOR THE OFFICE OF PUBLIC LIAISON                 179700.0\n",
       "ASSISTANT TO THE PRESIDENT AND DIRECTOR OF PRESIDENTIAL PERSONNEL                                          179700.0\n",
       "ASSISTANT TO THE PRESIDENT AND DIRECTOR OF SOCIAL MEDIA                                                    179700.0\n",
       "ASSISTANT TO THE PRESIDENT AND DIRECTOR OF THE DOMESTIC POLICY COUNCIL                                     179700.0\n",
       "ASSISTANT TO THE PRESIDENT AND DIRECTOR OF THE OFFICE OF LEGISLATIVE AFFAIRS                               179700.0\n",
       "ASSISTANT TO THE PRESIDENT AND EXECUTIVE SECRETARY AND CHIEF OF STAFF FOR THE NATIONAL SECURITY COUNCIL    179700.0\n",
       "ASSISTANT TO THE PRESIDENT AND DEPUTY CHIEF OF STAFF FOR OPERATIONS                                        179700.0\n",
       "Name: SALARY, dtype: float64"
      ]
     },
     "execution_count": 208,
     "metadata": {},
     "output_type": "execute_result"
    }
   ],
   "source": [
    "modified_wh.groupby(\"POSITION TITLE\").SALARY.mean().sort_values(ascending=False).head(10)"
   ]
  },
  {
   "cell_type": "markdown",
   "id": "138820dd-098d-4cee-a932-7bd75938d82c",
   "metadata": {},
   "source": [
    "The above Series describes the Position Titles of the highest average salaries within a Position Title "
   ]
  },
  {
   "cell_type": "code",
   "execution_count": 209,
   "id": "d66ab6ef-4b04-467b-a39b-3ae144e65124",
   "metadata": {},
   "outputs": [
    {
     "data": {
      "text/plain": [
       "POSITION TITLE\n",
       "FIRST DAUGHTER AND ADVISOR TO THE PRESIDENT                                        0.0\n",
       "ASSISTANT TO THE PRESIDENT FOR INTERGOVERNMENTAL AND TECHNOLOGY INITIATIVES        0.0\n",
       "ASSISTANT TO THE PRESIDENT AND SENIOR ADVISOR                                      0.0\n",
       "ASSISTANT TO THE PRESIDENT FOR STRATEGIC INITIATIVES                           30000.0\n",
       "ASSISTANT TO THE PRESIDENT AND DIRECTOR OF THE NATIONAL ECONOMIC COUNCIL       30000.0\n",
       "PERSONAL AIDE                                                                  40000.0\n",
       "RESEARCH ASSISTANT AND EXECUTIVE ASSISTANT                                     40000.0\n",
       "RESEARCH ANALYST                                                               42000.0\n",
       "WRITER FOR CORRESPONDENCE                                                      43500.0\n",
       "PRODUCTION ASSISTANT                                                           47000.0\n",
       "Name: SALARY, dtype: float64"
      ]
     },
     "execution_count": 209,
     "metadata": {},
     "output_type": "execute_result"
    }
   ],
   "source": [
    "modified_wh.groupby(\"POSITION TITLE\").SALARY.mean().sort_values(ascending=True).head(10)"
   ]
  },
  {
   "cell_type": "markdown",
   "id": "28c64393-a35c-4fe6-a460-a229507bc75e",
   "metadata": {},
   "source": [
    "The above Series describes the Position Titles of the lowest average salaries within a Position Title "
   ]
  },
  {
   "cell_type": "code",
   "execution_count": 190,
   "id": "6bdeb1ec-a16d-4cc4-a0b4-e1dd9b8c6386",
   "metadata": {},
   "outputs": [
    {
     "data": {
      "image/png": "[encoded data removed]",
      "text/plain": [
       "<Figure size 432x288 with 1 Axes>"
      ]
     },
     "metadata": {
      "needs_background": "light"
     },
     "output_type": "display_data"
    }
   ],
   "source": [
    "#does salary depend on Employee Status?\n",
    "ax = sns.boxplot(x=\"STATUS\", y=\"SALARY\",data=white_house_salaries)"
   ]
  },
  {
   "cell_type": "markdown",
   "id": "fbf8c24c-bef5-440a-9082-e303dcc17597",
   "metadata": {},
   "source": [
    "As seen in the boxplot, Staff with the Status of 'Detailees' are paid more than Staff with Status 'Employee'. "
   ]
  },
  {
   "cell_type": "code",
   "execution_count": 203,
   "id": "9fb1051b-a91e-47d0-9f1b-6267ce1d5620",
   "metadata": {},
   "outputs": [],
   "source": [
    "#Hypothesis testing - Salary has a relationship with the Status\n",
    "#let alpha threshold be 0.05\n",
    "#Null Hypothesis - There is no relationship between Salary and Status of White House Staff"
   ]
  },
  {
   "cell_type": "code",
   "execution_count": 202,
   "id": "0b9a65bb-8466-434c-8d0c-c250fed7cde9",
   "metadata": {},
   "outputs": [
    {
     "data": {
      "text/html": [
       "<table class=\"simpletable\">\n",
       "<caption>OLS Regression Results</caption>\n",
       "<tr>\n",
       "  <th>Dep. Variable:</th>       <td>Q(\"SALARY\")</td>   <th>  R-squared:         </th> <td>   0.031</td>\n",
       "</tr>\n",
       "<tr>\n",
       "  <th>Model:</th>                   <td>OLS</td>       <th>  Adj. R-squared:    </th> <td>   0.029</td>\n",
       "</tr>\n",
       "<tr>\n",
       "  <th>Method:</th>             <td>Least Squares</td>  <th>  F-statistic:       </th> <td>   12.03</td>\n",
       "</tr>\n",
       "<tr>\n",
       "  <th>Date:</th>             <td>Tue, 08 Mar 2022</td> <th>  Prob (F-statistic):</th> <td>0.000583</td>\n",
       "</tr>\n",
       "<tr>\n",
       "  <th>Time:</th>                 <td>18:44:39</td>     <th>  Log-Likelihood:    </th> <td> -4551.7</td>\n",
       "</tr>\n",
       "<tr>\n",
       "  <th>No. Observations:</th>      <td>   377</td>      <th>  AIC:               </th> <td>   9107.</td>\n",
       "</tr>\n",
       "<tr>\n",
       "  <th>Df Residuals:</th>          <td>   375</td>      <th>  BIC:               </th> <td>   9115.</td>\n",
       "</tr>\n",
       "<tr>\n",
       "  <th>Df Model:</th>              <td>     1</td>      <th>                     </th>     <td> </td>   \n",
       "</tr>\n",
       "<tr>\n",
       "  <th>Covariance Type:</th>      <td>nonrobust</td>    <th>                     </th>     <td> </td>   \n",
       "</tr>\n",
       "</table>\n",
       "<table class=\"simpletable\">\n",
       "<tr>\n",
       "             <td></td>                <th>coef</th>     <th>std err</th>      <th>t</th>      <th>P>|t|</th>  <th>[0.025</th>    <th>0.975]</th>  \n",
       "</tr>\n",
       "<tr>\n",
       "  <th>Intercept</th>               <td> 1.288e+05</td> <td>    1e+04</td> <td>   12.858</td> <td> 0.000</td> <td> 1.09e+05</td> <td> 1.48e+05</td>\n",
       "</tr>\n",
       "<tr>\n",
       "  <th>Q(\"STATUS\")[T.Employee]</th> <td>-3.561e+04</td> <td> 1.03e+04</td> <td>   -3.469</td> <td> 0.001</td> <td>-5.58e+04</td> <td>-1.54e+04</td>\n",
       "</tr>\n",
       "</table>\n",
       "<table class=\"simpletable\">\n",
       "<tr>\n",
       "  <th>Omnibus:</th>       <td>32.755</td> <th>  Durbin-Watson:     </th> <td>   2.072</td>\n",
       "</tr>\n",
       "<tr>\n",
       "  <th>Prob(Omnibus):</th> <td> 0.000</td> <th>  Jarque-Bera (JB):  </th> <td>  21.683</td>\n",
       "</tr>\n",
       "<tr>\n",
       "  <th>Skew:</th>          <td> 0.463</td> <th>  Prob(JB):          </th> <td>1.96e-05</td>\n",
       "</tr>\n",
       "<tr>\n",
       "  <th>Kurtosis:</th>      <td> 2.276</td> <th>  Cond. No.          </th> <td>    9.05</td>\n",
       "</tr>\n",
       "</table><br/><br/>Notes:<br/>[1] Standard Errors assume that the covariance matrix of the errors is correctly specified."
      ],
      "text/plain": [
       "<class 'statsmodels.iolib.summary.Summary'>\n",
       "\"\"\"\n",
       "                            OLS Regression Results                            \n",
       "==============================================================================\n",
       "Dep. Variable:            Q(\"SALARY\")   R-squared:                       0.031\n",
       "Model:                            OLS   Adj. R-squared:                  0.029\n",
       "Method:                 Least Squares   F-statistic:                     12.03\n",
       "Date:                Tue, 08 Mar 2022   Prob (F-statistic):           0.000583\n",
       "Time:                        18:44:39   Log-Likelihood:                -4551.7\n",
       "No. Observations:                 377   AIC:                             9107.\n",
       "Df Residuals:                     375   BIC:                             9115.\n",
       "Df Model:                           1                                         \n",
       "Covariance Type:            nonrobust                                         \n",
       "===========================================================================================\n",
       "                              coef    std err          t      P>|t|      [0.025      0.975]\n",
       "-------------------------------------------------------------------------------------------\n",
       "Intercept                1.288e+05      1e+04     12.858      0.000    1.09e+05    1.48e+05\n",
       "Q(\"STATUS\")[T.Employee] -3.561e+04   1.03e+04     -3.469      0.001   -5.58e+04   -1.54e+04\n",
       "==============================================================================\n",
       "Omnibus:                       32.755   Durbin-Watson:                   2.072\n",
       "Prob(Omnibus):                  0.000   Jarque-Bera (JB):               21.683\n",
       "Skew:                           0.463   Prob(JB):                     1.96e-05\n",
       "Kurtosis:                       2.276   Cond. No.                         9.05\n",
       "==============================================================================\n",
       "\n",
       "Notes:\n",
       "[1] Standard Errors assume that the covariance matrix of the errors is correctly specified.\n",
       "\"\"\""
      ]
     },
     "execution_count": 202,
     "metadata": {},
     "output_type": "execute_result"
    }
   ],
   "source": [
    "pay_position_lm = smf.ols('Q(\"SALARY\") ~ Q(\"STATUS\")', data=white_house_salaries).fit()\n",
    "pay_position_lm.summary()"
   ]
  },
  {
   "cell_type": "markdown",
   "id": "bfdeb41c-0a06-4db5-aa57-86cdd095712d",
   "metadata": {},
   "source": [
    "The above F-Statistic indicates that the Null Hypothesis can be rejected, as the Probability of seeing the Data that we have if the Null Hypothesis was true, would be 0.000583, which is much lower than the Alpha of 0.05 "
   ]
  },
  {
   "cell_type": "code",
   "execution_count": 212,
   "id": "ad7ac065-c0d1-4429-9e56-fc84381aab7e",
   "metadata": {},
   "outputs": [
    {
     "data": {
      "text/html": [
       "<div>\n",
       "<style scoped>\n",
       "    .dataframe tbody tr th:only-of-type {\n",
       "        vertical-align: middle;\n",
       "    }\n",
       "\n",
       "    .dataframe tbody tr th {\n",
       "        vertical-align: top;\n",
       "    }\n",
       "\n",
       "    .dataframe thead th {\n",
       "        text-align: right;\n",
       "    }\n",
       "</style>\n",
       "<table border=\"1\" class=\"dataframe\">\n",
       "  <thead>\n",
       "    <tr style=\"text-align: right;\">\n",
       "      <th></th>\n",
       "      <th>0</th>\n",
       "      <th>23.82729036706873</th>\n",
       "    </tr>\n",
       "  </thead>\n",
       "  <tbody>\n",
       "    <tr>\n",
       "      <th>0</th>\n",
       "      <td>1</td>\n",
       "      <td>23.589108</td>\n",
       "    </tr>\n",
       "    <tr>\n",
       "      <th>1</th>\n",
       "      <td>2</td>\n",
       "      <td>24.529556</td>\n",
       "    </tr>\n",
       "    <tr>\n",
       "      <th>2</th>\n",
       "      <td>3</td>\n",
       "      <td>16.684580</td>\n",
       "    </tr>\n",
       "    <tr>\n",
       "      <th>3</th>\n",
       "      <td>4</td>\n",
       "      <td>22.075507</td>\n",
       "    </tr>\n",
       "    <tr>\n",
       "      <th>4</th>\n",
       "      <td>5</td>\n",
       "      <td>21.892569</td>\n",
       "    </tr>\n",
       "    <tr>\n",
       "      <th>5</th>\n",
       "      <td>6</td>\n",
       "      <td>20.375133</td>\n",
       "    </tr>\n",
       "    <tr>\n",
       "      <th>6</th>\n",
       "      <td>7</td>\n",
       "      <td>22.673543</td>\n",
       "    </tr>\n",
       "    <tr>\n",
       "      <th>7</th>\n",
       "      <td>8</td>\n",
       "      <td>21.183123</td>\n",
       "    </tr>\n",
       "    <tr>\n",
       "      <th>8</th>\n",
       "      <td>9</td>\n",
       "      <td>21.672874</td>\n",
       "    </tr>\n",
       "    <tr>\n",
       "      <th>9</th>\n",
       "      <td>10</td>\n",
       "      <td>24.523231</td>\n",
       "    </tr>\n",
       "  </tbody>\n",
       "</table>\n",
       "</div>"
      ],
      "text/plain": [
       "    0  23.82729036706873\n",
       "0   1          23.589108\n",
       "1   2          24.529556\n",
       "2   3          16.684580\n",
       "3   4          22.075507\n",
       "4   5          21.892569\n",
       "5   6          20.375133\n",
       "6   7          22.673543\n",
       "7   8          21.183123\n",
       "8   9          21.672874\n",
       "9  10          24.523231"
      ]
     },
     "execution_count": 212,
     "metadata": {},
     "output_type": "execute_result"
    }
   ],
   "source": [
    "# 2 b)\n",
    "fractal_data = pd.read_csv(\"https://raw.githubusercontent.com/fractalbass/data_engineer/master/data.csv\")\n",
    "fractal_data.head(10)"
   ]
  },
  {
   "cell_type": "code",
   "execution_count": 214,
   "id": "795993c5-4fd3-401e-85a4-0e30a3a7800c",
   "metadata": {},
   "outputs": [
    {
     "data": {
      "text/plain": [
       "Index(['0', '23.82729036706873'], dtype='object')"
      ]
     },
     "execution_count": 214,
     "metadata": {},
     "output_type": "execute_result"
    }
   ],
   "source": [
    "fractal_data.columns"
   ]
  },
  {
   "cell_type": "code",
   "execution_count": 219,
   "id": "14062a13-cc21-48be-97d6-6a92b5769247",
   "metadata": {},
   "outputs": [],
   "source": [
    "#the column names are not useful and make for confusing names \n",
    "#modifying to more appropriate names"
   ]
  },
  {
   "cell_type": "code",
   "execution_count": 217,
   "id": "8e39ed03-643d-4aeb-9b6e-445f6de17391",
   "metadata": {},
   "outputs": [
    {
     "data": {
      "text/html": [
       "<div>\n",
       "<style scoped>\n",
       "    .dataframe tbody tr th:only-of-type {\n",
       "        vertical-align: middle;\n",
       "    }\n",
       "\n",
       "    .dataframe tbody tr th {\n",
       "        vertical-align: top;\n",
       "    }\n",
       "\n",
       "    .dataframe thead th {\n",
       "        text-align: right;\n",
       "    }\n",
       "</style>\n",
       "<table border=\"1\" class=\"dataframe\">\n",
       "  <thead>\n",
       "    <tr style=\"text-align: right;\">\n",
       "      <th></th>\n",
       "      <th>Number_X</th>\n",
       "    </tr>\n",
       "    <tr>\n",
       "      <th>ID</th>\n",
       "      <th></th>\n",
       "    </tr>\n",
       "  </thead>\n",
       "  <tbody>\n",
       "    <tr>\n",
       "      <th>1</th>\n",
       "      <td>23.589108</td>\n",
       "    </tr>\n",
       "    <tr>\n",
       "      <th>2</th>\n",
       "      <td>24.529556</td>\n",
       "    </tr>\n",
       "    <tr>\n",
       "      <th>3</th>\n",
       "      <td>16.684580</td>\n",
       "    </tr>\n",
       "    <tr>\n",
       "      <th>4</th>\n",
       "      <td>22.075507</td>\n",
       "    </tr>\n",
       "    <tr>\n",
       "      <th>5</th>\n",
       "      <td>21.892569</td>\n",
       "    </tr>\n",
       "    <tr>\n",
       "      <th>6</th>\n",
       "      <td>20.375133</td>\n",
       "    </tr>\n",
       "    <tr>\n",
       "      <th>7</th>\n",
       "      <td>22.673543</td>\n",
       "    </tr>\n",
       "    <tr>\n",
       "      <th>8</th>\n",
       "      <td>21.183123</td>\n",
       "    </tr>\n",
       "    <tr>\n",
       "      <th>9</th>\n",
       "      <td>21.672874</td>\n",
       "    </tr>\n",
       "    <tr>\n",
       "      <th>10</th>\n",
       "      <td>24.523231</td>\n",
       "    </tr>\n",
       "  </tbody>\n",
       "</table>\n",
       "</div>"
      ],
      "text/plain": [
       "     Number_X\n",
       "ID           \n",
       "1   23.589108\n",
       "2   24.529556\n",
       "3   16.684580\n",
       "4   22.075507\n",
       "5   21.892569\n",
       "6   20.375133\n",
       "7   22.673543\n",
       "8   21.183123\n",
       "9   21.672874\n",
       "10  24.523231"
      ]
     },
     "execution_count": 217,
     "metadata": {},
     "output_type": "execute_result"
    }
   ],
   "source": [
    "modified_fract = fractal_data.rename({'23.82729036706873': 'Number_X', '0':'ID'}, \n",
    "                                     axis=1)\n",
    "modified_fract = modified_fract.set_index('ID')\n",
    "modified_fract.head(10)"
   ]
  },
  {
   "cell_type": "code",
   "execution_count": 221,
   "id": "b0ca4088-4a31-4d85-9835-ba49d8a197ce",
   "metadata": {},
   "outputs": [
    {
     "data": {
      "text/plain": [
       "count    9999.000000\n",
       "mean       23.035996\n",
       "std         2.995436\n",
       "min        11.248686\n",
       "25%        21.007170\n",
       "50%        23.024031\n",
       "75%        25.069370\n",
       "max        33.286533\n",
       "Name: Number_X, dtype: float64"
      ]
     },
     "execution_count": 221,
     "metadata": {},
     "output_type": "execute_result"
    }
   ],
   "source": [
    "modified_fract[\"Number_X\"].describe()"
   ]
  },
  {
   "cell_type": "code",
   "execution_count": 225,
   "id": "a7a905cf-fce6-470d-a72f-b3b3664cf49a",
   "metadata": {},
   "outputs": [
    {
     "data": {
      "image/png": "[encoded data removed]",
      "text/plain": [
       "<Figure size 432x288 with 1 Axes>"
      ]
     },
     "metadata": {
      "needs_background": "light"
     },
     "output_type": "display_data"
    }
   ],
   "source": [
    "n, bins, patches = plt.hist(modified_fract[\"Number_X\"], 20, density=True, facecolor='r', alpha=0.75)\n",
    "\n",
    "plt.xlabel('Range')\n",
    "plt.ylabel('Frequency of Range')\n",
    "plt.title('Distribution of the Data')\n",
    "plt.grid(True)\n",
    "plt.show()"
   ]
  },
  {
   "cell_type": "markdown",
   "id": "ded8a681-3f2e-4bbc-9eef-50605978363c",
   "metadata": {},
   "source": [
    "The distribution is a perfect Normal Distribution, which indicates that this is synthetic data that was generated to form a normal distrbution. It is extrememly rare to find such a perfect normal distribution in real life."
   ]
  },
  {
   "cell_type": "markdown",
   "id": "b6db30a1-92f0-471f-86a9-64ab40d4f6d9",
   "metadata": {},
   "source": [
    "3 a)\n",
    "\n",
    "A brute-force method for filling in numerical Null Values is replacing them with 0 or -999, which can serve the purpose of indicating that such an entry is that of a missing value. This is extremely inefficient and would result in inaccurate representation of the data. Besides, this would work only for numeric values.\n",
    "\n",
    "The most common way to imputate missing values is by replacing each value by the mean or median. For a 365 GB File, this is an inefficient method. If three columns have missing values, we would need to compute means for 3x365 entries. This would also not work with non-numerical or categorical data.\n",
    "\n",
    "In such a case, filling with the most common value in the column, or the mode would be much quicker. This would work for categorical variables too.\n",
    "\n",
    "In both of the statistical Methods, a column is treated without considering its relation to other columns. The relationship between variables is not preserved in these methods.\n",
    "\n",
    "A regression model, that has captured the relationship between the variables in a dataset, can be used to predict the missing values. This can accurate for datasets that show high degree of correlation between variables.\n",
    "\n",
    "Nearest Neighbors apporoach is another algorithm that is based on the principle of finding missing values based on the data point's similarity with other data points in the dataset. Like all Clustering problems, to impute missing values, a data point's cluser will be used to predict the value.\n",
    "\n",
    "\n",
    "My approach would be the Nearest Neighbor method or the Regression Method, whicher has the higher accuracy. A python librbary called 'missingpy' (documentation: https://pypi.org/project/missingpy/)  is based on the KNN approach that provides the functionality to impute missing values by similarity.\n"
   ]
  },
  {
   "cell_type": "markdown",
   "id": "3b61bb5a-58a9-4181-a552-aeaabe98c531",
   "metadata": {},
   "source": [
    "4)\n",
    "\n",
    "To automate imputation, there are libraries and tools that work on the above principles, that can help in performing imputation at specific times and based on the latest available data.\n",
    "\n",
    "Last Observation Carried Forward (LOCF) techinique is particulary useful for getting the most accurate predictions of a dataset that is updated with intervals or time, i.e, a dataset that varies with time. If the dataset does not vary with time, a one-time prediction is sufficient and missing values will not need any additional appraoch other than the ones discussed in part 3. \n",
    "\n",
    "\n",
    "For the purposes of automatic imputation, I would make use of the Autoimpute (documentation: https://pypi.org/project/autoimpute/) Python library that allows for analysis of the imputation method. If a dataset varies with time, there is the opportunity to learn better or more appropriate methods of imputation, which can be done with the analysis components in the Autoimpute library. \n"
   ]
  },
  {
   "cell_type": "markdown",
   "id": "7b3548c4-f61f-4fb6-a86a-11eb16a5f423",
   "metadata": {},
   "source": [
    "5)\n",
    "Grace Hopper is my favorite Computer Scientist. In addition to her enormous contributions to the Compiler Design and COBOL, she was an inspirational teacher shaping the minds of the next generation researchers. She is a trailblazer who was the First to many titles, positions, and inventions. She was one of the pioneers of the first digital computers in the year 1946. One can only imagine the hoops she would have had to jump through to be taken seriously as a Computer Science Researcher in the 1940s, when most women in the world could not even vote. She also had the foresight to predict the trajectory of computers and their ubiquitousness in the future. Her legacy as an iconic Computer Scientist is celebrated every year at the GHC conferences, where budding women Computer Scientists repsent their research.  "
   ]
  },
  {
   "cell_type": "code",
   "execution_count": null,
   "id": "ab9c9b6a-5e92-46b8-b617-a78a202d9778",
   "metadata": {},
   "outputs": [],
   "source": []
  }
 ],
 "metadata": {
  "kernelspec": {
   "display_name": "Python 3 (ipykernel)",
   "language": "python",
   "name": "python3"
  },
  "language_info": {
   "codemirror_mode": {
    "name": "ipython",
    "version": 3
   },
   "file_extension": ".py",
   "mimetype": "text/x-python",
   "name": "python",
   "nbconvert_exporter": "python",
   "pygments_lexer": "ipython3",
   "version": "3.9.7"
  }
 },
 "nbformat": 4,
 "nbformat_minor": 5
}
